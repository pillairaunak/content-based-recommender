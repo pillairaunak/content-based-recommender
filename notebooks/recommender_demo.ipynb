{
 "cells": [
  {
   "cell_type": "markdown",
   "id": "1060bed2",
   "metadata": {},
   "source": [
    "# Content-Based Recommender System Demo\n",
    "\n",
    "This notebook demonstrates how to use the content-based recommender system to generate personalized recommendations based on item attributes."
   ]
  },
  {
   "cell_type": "code",
   "execution_count": 1,
   "id": "7f20fb9d",
   "metadata": {},
   "outputs": [],
   "source": [
    "import sys\n",
    "import os\n",
    "import pandas as pd\n",
    "import numpy as np\n",
    "import matplotlib.pyplot as plt\n",
    "import seaborn as sns\n",
    "\n",
    "# Add parent directory to path to import recommender module\n",
    "sys.path.append('..')\n",
    "from recommender.content_based import ContentBasedRecommender"
   ]
  },
  {
   "cell_type": "markdown",
   "id": "20a65631",
   "metadata": {},
   "source": [
    "## 1. Loading and Exploring the Dataset"
   ]
  },
  {
   "cell_type": "code",
   "execution_count": 2,
   "id": "08e0aaf1",
   "metadata": {},
   "outputs": [
    {
     "name": "stdout",
     "output_type": "stream",
     "text": [
      "Movies dataset preview:\n"
     ]
    },
    {
     "data": {
      "text/html": [
       "<div>\n",
       "<style scoped>\n",
       "    .dataframe tbody tr th:only-of-type {\n",
       "        vertical-align: middle;\n",
       "    }\n",
       "\n",
       "    .dataframe tbody tr th {\n",
       "        vertical-align: top;\n",
       "    }\n",
       "\n",
       "    .dataframe thead th {\n",
       "        text-align: right;\n",
       "    }\n",
       "</style>\n",
       "<table border=\"1\" class=\"dataframe\">\n",
       "  <thead>\n",
       "    <tr style=\"text-align: right;\">\n",
       "      <th></th>\n",
       "      <th>Movie</th>\n",
       "      <th>Adventure</th>\n",
       "      <th>Animation</th>\n",
       "      <th>Children</th>\n",
       "      <th>Comedy</th>\n",
       "      <th>Fantasy</th>\n",
       "      <th>Romance</th>\n",
       "      <th>Drama</th>\n",
       "      <th>Thriller</th>\n",
       "      <th>Action</th>\n",
       "      <th>Horror</th>\n",
       "      <th>Num_Attr</th>\n",
       "    </tr>\n",
       "  </thead>\n",
       "  <tbody>\n",
       "    <tr>\n",
       "      <th>0</th>\n",
       "      <td>Toy Story (1995)</td>\n",
       "      <td>1</td>\n",
       "      <td>0</td>\n",
       "      <td>1</td>\n",
       "      <td>0</td>\n",
       "      <td>1</td>\n",
       "      <td>1</td>\n",
       "      <td>0</td>\n",
       "      <td>0</td>\n",
       "      <td>0</td>\n",
       "      <td>1</td>\n",
       "      <td>5</td>\n",
       "    </tr>\n",
       "    <tr>\n",
       "      <th>1</th>\n",
       "      <td>Jumanji (1995)</td>\n",
       "      <td>0</td>\n",
       "      <td>1</td>\n",
       "      <td>1</td>\n",
       "      <td>1</td>\n",
       "      <td>0</td>\n",
       "      <td>0</td>\n",
       "      <td>0</td>\n",
       "      <td>1</td>\n",
       "      <td>0</td>\n",
       "      <td>0</td>\n",
       "      <td>4</td>\n",
       "    </tr>\n",
       "    <tr>\n",
       "      <th>2</th>\n",
       "      <td>Grumpier Old Men (1995)</td>\n",
       "      <td>0</td>\n",
       "      <td>0</td>\n",
       "      <td>0</td>\n",
       "      <td>1</td>\n",
       "      <td>1</td>\n",
       "      <td>1</td>\n",
       "      <td>0</td>\n",
       "      <td>0</td>\n",
       "      <td>0</td>\n",
       "      <td>0</td>\n",
       "      <td>3</td>\n",
       "    </tr>\n",
       "    <tr>\n",
       "      <th>3</th>\n",
       "      <td>Waiting to Exhale (1995)</td>\n",
       "      <td>0</td>\n",
       "      <td>0</td>\n",
       "      <td>1</td>\n",
       "      <td>1</td>\n",
       "      <td>0</td>\n",
       "      <td>0</td>\n",
       "      <td>1</td>\n",
       "      <td>1</td>\n",
       "      <td>0</td>\n",
       "      <td>0</td>\n",
       "      <td>4</td>\n",
       "    </tr>\n",
       "    <tr>\n",
       "      <th>4</th>\n",
       "      <td>Father of the Bride Part II (1995)</td>\n",
       "      <td>0</td>\n",
       "      <td>1</td>\n",
       "      <td>0</td>\n",
       "      <td>0</td>\n",
       "      <td>0</td>\n",
       "      <td>0</td>\n",
       "      <td>0</td>\n",
       "      <td>0</td>\n",
       "      <td>1</td>\n",
       "      <td>1</td>\n",
       "      <td>3</td>\n",
       "    </tr>\n",
       "  </tbody>\n",
       "</table>\n",
       "</div>"
      ],
      "text/plain": [
       "                                Movie  Adventure  Animation  Children  Comedy  \\\n",
       "0                    Toy Story (1995)          1          0         1       0   \n",
       "1                      Jumanji (1995)          0          1         1       1   \n",
       "2             Grumpier Old Men (1995)          0          0         0       1   \n",
       "3            Waiting to Exhale (1995)          0          0         1       1   \n",
       "4  Father of the Bride Part II (1995)          0          1         0       0   \n",
       "\n",
       "   Fantasy  Romance  Drama  Thriller  Action  Horror  Num_Attr  \n",
       "0        1        1      0         0       0       1         5  \n",
       "1        0        0      0         1       0       0         4  \n",
       "2        1        1      0         0       0       0         3  \n",
       "3        0        0      1         1       0       0         4  \n",
       "4        0        0      0         0       1       1         3  "
      ]
     },
     "execution_count": 2,
     "metadata": {},
     "output_type": "execute_result"
    }
   ],
   "source": [
    "# Load the dataset\n",
    "movies_path = '../data/movies.csv'\n",
    "movies = pd.read_csv(movies_path)\n",
    "\n",
    "# Display the first few rows\n",
    "print(\"Movies dataset preview:\")\n",
    "movies.head()"
   ]
  },
  {
   "cell_type": "code",
   "execution_count": 3,
   "id": "31709f28",
   "metadata": {},
   "outputs": [
    {
     "name": "stdout",
     "output_type": "stream",
     "text": [
      "Dataset shape: (20, 12)\n",
      "\n",
      "Number of unique movies: 20\n",
      "\n",
      "Genre columns: ['Adventure', 'Animation', 'Children', 'Comedy', 'Fantasy', 'Romance', 'Drama', 'Thriller', 'Action', 'Horror']\n",
      "\n",
      "Summary statistics:\n"
     ]
    },
    {
     "data": {
      "text/html": [
       "<div>\n",
       "<style scoped>\n",
       "    .dataframe tbody tr th:only-of-type {\n",
       "        vertical-align: middle;\n",
       "    }\n",
       "\n",
       "    .dataframe tbody tr th {\n",
       "        vertical-align: top;\n",
       "    }\n",
       "\n",
       "    .dataframe thead th {\n",
       "        text-align: right;\n",
       "    }\n",
       "</style>\n",
       "<table border=\"1\" class=\"dataframe\">\n",
       "  <thead>\n",
       "    <tr style=\"text-align: right;\">\n",
       "      <th></th>\n",
       "      <th>Adventure</th>\n",
       "      <th>Animation</th>\n",
       "      <th>Children</th>\n",
       "      <th>Comedy</th>\n",
       "      <th>Fantasy</th>\n",
       "      <th>Romance</th>\n",
       "      <th>Drama</th>\n",
       "      <th>Thriller</th>\n",
       "      <th>Action</th>\n",
       "      <th>Horror</th>\n",
       "      <th>Num_Attr</th>\n",
       "    </tr>\n",
       "  </thead>\n",
       "  <tbody>\n",
       "    <tr>\n",
       "      <th>count</th>\n",
       "      <td>20.000000</td>\n",
       "      <td>20.000000</td>\n",
       "      <td>20.000000</td>\n",
       "      <td>20.000000</td>\n",
       "      <td>20.000000</td>\n",
       "      <td>20.000000</td>\n",
       "      <td>20.00000</td>\n",
       "      <td>20.000000</td>\n",
       "      <td>20.00000</td>\n",
       "      <td>20.000000</td>\n",
       "      <td>20.000000</td>\n",
       "    </tr>\n",
       "    <tr>\n",
       "      <th>mean</th>\n",
       "      <td>0.200000</td>\n",
       "      <td>0.300000</td>\n",
       "      <td>0.500000</td>\n",
       "      <td>0.550000</td>\n",
       "      <td>0.300000</td>\n",
       "      <td>0.300000</td>\n",
       "      <td>0.35000</td>\n",
       "      <td>0.300000</td>\n",
       "      <td>0.35000</td>\n",
       "      <td>0.250000</td>\n",
       "      <td>3.400000</td>\n",
       "    </tr>\n",
       "    <tr>\n",
       "      <th>std</th>\n",
       "      <td>0.410391</td>\n",
       "      <td>0.470162</td>\n",
       "      <td>0.512989</td>\n",
       "      <td>0.510418</td>\n",
       "      <td>0.470162</td>\n",
       "      <td>0.470162</td>\n",
       "      <td>0.48936</td>\n",
       "      <td>0.470162</td>\n",
       "      <td>0.48936</td>\n",
       "      <td>0.444262</td>\n",
       "      <td>0.940325</td>\n",
       "    </tr>\n",
       "    <tr>\n",
       "      <th>min</th>\n",
       "      <td>0.000000</td>\n",
       "      <td>0.000000</td>\n",
       "      <td>0.000000</td>\n",
       "      <td>0.000000</td>\n",
       "      <td>0.000000</td>\n",
       "      <td>0.000000</td>\n",
       "      <td>0.00000</td>\n",
       "      <td>0.000000</td>\n",
       "      <td>0.00000</td>\n",
       "      <td>0.000000</td>\n",
       "      <td>2.000000</td>\n",
       "    </tr>\n",
       "    <tr>\n",
       "      <th>25%</th>\n",
       "      <td>0.000000</td>\n",
       "      <td>0.000000</td>\n",
       "      <td>0.000000</td>\n",
       "      <td>0.000000</td>\n",
       "      <td>0.000000</td>\n",
       "      <td>0.000000</td>\n",
       "      <td>0.00000</td>\n",
       "      <td>0.000000</td>\n",
       "      <td>0.00000</td>\n",
       "      <td>0.000000</td>\n",
       "      <td>3.000000</td>\n",
       "    </tr>\n",
       "    <tr>\n",
       "      <th>50%</th>\n",
       "      <td>0.000000</td>\n",
       "      <td>0.000000</td>\n",
       "      <td>0.500000</td>\n",
       "      <td>1.000000</td>\n",
       "      <td>0.000000</td>\n",
       "      <td>0.000000</td>\n",
       "      <td>0.00000</td>\n",
       "      <td>0.000000</td>\n",
       "      <td>0.00000</td>\n",
       "      <td>0.000000</td>\n",
       "      <td>3.500000</td>\n",
       "    </tr>\n",
       "    <tr>\n",
       "      <th>75%</th>\n",
       "      <td>0.000000</td>\n",
       "      <td>1.000000</td>\n",
       "      <td>1.000000</td>\n",
       "      <td>1.000000</td>\n",
       "      <td>1.000000</td>\n",
       "      <td>1.000000</td>\n",
       "      <td>1.00000</td>\n",
       "      <td>1.000000</td>\n",
       "      <td>1.00000</td>\n",
       "      <td>0.250000</td>\n",
       "      <td>4.000000</td>\n",
       "    </tr>\n",
       "    <tr>\n",
       "      <th>max</th>\n",
       "      <td>1.000000</td>\n",
       "      <td>1.000000</td>\n",
       "      <td>1.000000</td>\n",
       "      <td>1.000000</td>\n",
       "      <td>1.000000</td>\n",
       "      <td>1.000000</td>\n",
       "      <td>1.00000</td>\n",
       "      <td>1.000000</td>\n",
       "      <td>1.00000</td>\n",
       "      <td>1.000000</td>\n",
       "      <td>5.000000</td>\n",
       "    </tr>\n",
       "  </tbody>\n",
       "</table>\n",
       "</div>"
      ],
      "text/plain": [
       "       Adventure  Animation   Children     Comedy    Fantasy    Romance  \\\n",
       "count  20.000000  20.000000  20.000000  20.000000  20.000000  20.000000   \n",
       "mean    0.200000   0.300000   0.500000   0.550000   0.300000   0.300000   \n",
       "std     0.410391   0.470162   0.512989   0.510418   0.470162   0.470162   \n",
       "min     0.000000   0.000000   0.000000   0.000000   0.000000   0.000000   \n",
       "25%     0.000000   0.000000   0.000000   0.000000   0.000000   0.000000   \n",
       "50%     0.000000   0.000000   0.500000   1.000000   0.000000   0.000000   \n",
       "75%     0.000000   1.000000   1.000000   1.000000   1.000000   1.000000   \n",
       "max     1.000000   1.000000   1.000000   1.000000   1.000000   1.000000   \n",
       "\n",
       "          Drama   Thriller    Action     Horror   Num_Attr  \n",
       "count  20.00000  20.000000  20.00000  20.000000  20.000000  \n",
       "mean    0.35000   0.300000   0.35000   0.250000   3.400000  \n",
       "std     0.48936   0.470162   0.48936   0.444262   0.940325  \n",
       "min     0.00000   0.000000   0.00000   0.000000   2.000000  \n",
       "25%     0.00000   0.000000   0.00000   0.000000   3.000000  \n",
       "50%     0.00000   0.000000   0.00000   0.000000   3.500000  \n",
       "75%     1.00000   1.000000   1.00000   0.250000   4.000000  \n",
       "max     1.00000   1.000000   1.00000   1.000000   5.000000  "
      ]
     },
     "execution_count": 3,
     "metadata": {},
     "output_type": "execute_result"
    }
   ],
   "source": [
    "# Explore dataset statistics\n",
    "print(f\"Dataset shape: {movies.shape}\")\n",
    "print(f\"\\nNumber of unique movies: {movies[movies.columns[0]].nunique()}\")\n",
    "print(f\"\\nGenre columns: {movies.columns[1:11].tolist()}\")\n",
    "print(f\"\\nSummary statistics:\")\n",
    "movies.describe()"
   ]
  },
  {
   "cell_type": "code",
   "execution_count": 4,
   "id": "b12afa39",
   "metadata": {},
   "outputs": [
    {
     "data": {
      "image/png": "[encoded data removed]",
      "text/plain": [
       "<Figure size 1200x600 with 1 Axes>"
      ]
     },
     "metadata": {},
     "output_type": "display_data"
    }
   ],
   "source": [
    "# Visualize the distribution of genres in the dataset\n",
    "plt.figure(figsize=(12, 6))\n",
    "genre_counts = movies.iloc[:, 1:11].sum()\n",
    "sns.barplot(x=genre_counts.index, y=genre_counts.values)\n",
    "plt.title('Distribution of Genres in the Dataset')\n",
    "plt.xlabel('Genre')\n",
    "plt.ylabel('Count')\n",
    "plt.xticks(rotation=45)\n",
    "plt.tight_layout()\n",
    "plt.show()"
   ]
  },
  {
   "cell_type": "code",
   "execution_count": 5,
   "id": "0f47d5bf",
   "metadata": {},
   "outputs": [
    {
     "data": {
      "image/png": "[encoded data removed]",
      "text/plain": [
       "<Figure size 1000x600 with 1 Axes>"
      ]
     },
     "metadata": {},
     "output_type": "display_data"
    }
   ],
   "source": [
    "# Distribution of number of attributes per movie\n",
    "plt.figure(figsize=(10, 6))\n",
    "sns.countplot(x='Num_Attr', data=movies)\n",
    "plt.title('Distribution of Number of Attributes per Movie')\n",
    "plt.xlabel('Number of Attributes')\n",
    "plt.ylabel('Count')\n",
    "plt.tight_layout()\n",
    "plt.show()"
   ]
  },
  {
   "cell_type": "markdown",
   "id": "f4da9a87",
   "metadata": {},
   "source": [
    "## 2. Setting Up the Recommender"
   ]
  },
  {
   "cell_type": "code",
   "execution_count": 6,
   "id": "ef14c848",
   "metadata": {},
   "outputs": [],
   "source": [
    "# Initialize the recommender system\n",
    "recommender = ContentBasedRecommender()"
   ]
  },
  {
   "cell_type": "code",
   "execution_count": 7,
   "id": "909d2b5f",
   "metadata": {},
   "outputs": [
    {
     "name": "stdout",
     "output_type": "stream",
     "text": [
      "Loaded 20 items with 10 attributes.\n"
     ]
    }
   ],
   "source": [
    "# Load the data\n",
    "recommender.load_data(movies_path)"
   ]
  },
  {
   "cell_type": "markdown",
   "id": "30caa500",
   "metadata": {},
   "source": [
    "## 3. Adding User Ratings"
   ]
  },
  {
   "cell_type": "code",
   "execution_count": 8,
   "id": "24d8fbfd",
   "metadata": {},
   "outputs": [],
   "source": [
    "# Define ratings for John and Joan\n",
    "john_ratings = {0: 1, 1: -1, 5: 1, 15: 1, 18: -1}  # Movie indices with ratings (1=like, -1=dislike)\n",
    "joan_ratings = {0: -1, 1: 1, 3: 1, 11: -1, 16: 1}"
   ]
  },
  {
   "cell_type": "code",
   "execution_count": 9,
   "id": "190e788e",
   "metadata": {},
   "outputs": [
    {
     "name": "stdout",
     "output_type": "stream",
     "text": [
      "Added ratings for user John (5 items rated).\n",
      "Added ratings for user Joan (5 items rated).\n"
     ]
    }
   ],
   "source": [
    "# Add user ratings\n",
    "recommender.add_user_ratings('John', john_ratings)\n",
    "recommender.add_user_ratings('Joan', joan_ratings)"
   ]
  },
  {
   "cell_type": "code",
   "execution_count": 10,
   "id": "22e86f9c",
   "metadata": {},
   "outputs": [
    {
     "name": "stdout",
     "output_type": "stream",
     "text": [
      "John's rated movies:\n"
     ]
    },
    {
     "data": {
      "text/html": [
       "<div>\n",
       "<style scoped>\n",
       "    .dataframe tbody tr th:only-of-type {\n",
       "        vertical-align: middle;\n",
       "    }\n",
       "\n",
       "    .dataframe tbody tr th {\n",
       "        vertical-align: top;\n",
       "    }\n",
       "\n",
       "    .dataframe thead th {\n",
       "        text-align: right;\n",
       "    }\n",
       "</style>\n",
       "<table border=\"1\" class=\"dataframe\">\n",
       "  <thead>\n",
       "    <tr style=\"text-align: right;\">\n",
       "      <th></th>\n",
       "      <th>Movie</th>\n",
       "      <th>Rating</th>\n",
       "    </tr>\n",
       "  </thead>\n",
       "  <tbody>\n",
       "    <tr>\n",
       "      <th>0</th>\n",
       "      <td>Toy Story (1995)</td>\n",
       "      <td>1</td>\n",
       "    </tr>\n",
       "    <tr>\n",
       "      <th>1</th>\n",
       "      <td>Jumanji (1995)</td>\n",
       "      <td>-1</td>\n",
       "    </tr>\n",
       "    <tr>\n",
       "      <th>2</th>\n",
       "      <td>Heat (1995)</td>\n",
       "      <td>1</td>\n",
       "    </tr>\n",
       "    <tr>\n",
       "      <th>3</th>\n",
       "      <td>Casino (1995)</td>\n",
       "      <td>1</td>\n",
       "    </tr>\n",
       "    <tr>\n",
       "      <th>4</th>\n",
       "      <td>Ace Ventura: When Nature Calls (1995)</td>\n",
       "      <td>-1</td>\n",
       "    </tr>\n",
       "  </tbody>\n",
       "</table>\n",
       "</div>"
      ],
      "text/plain": [
       "                                   Movie  Rating\n",
       "0                       Toy Story (1995)       1\n",
       "1                         Jumanji (1995)      -1\n",
       "2                            Heat (1995)       1\n",
       "3                          Casino (1995)       1\n",
       "4  Ace Ventura: When Nature Calls (1995)      -1"
      ]
     },
     "execution_count": 10,
     "metadata": {},
     "output_type": "execute_result"
    }
   ],
   "source": [
    "# Display movies with their ratings for John\n",
    "john_rated_movies = pd.DataFrame({\n",
    "    'Movie': movies.iloc[list(john_ratings.keys()), 0].values,\n",
    "    'Rating': list(john_ratings.values())\n",
    "})\n",
    "print(\"John's rated movies:\")\n",
    "john_rated_movies"
   ]
  },
  {
   "cell_type": "code",
   "execution_count": 11,
   "id": "901de139",
   "metadata": {},
   "outputs": [
    {
     "name": "stdout",
     "output_type": "stream",
     "text": [
      "Joan's rated movies:\n"
     ]
    },
    {
     "data": {
      "text/html": [
       "<div>\n",
       "<style scoped>\n",
       "    .dataframe tbody tr th:only-of-type {\n",
       "        vertical-align: middle;\n",
       "    }\n",
       "\n",
       "    .dataframe tbody tr th {\n",
       "        vertical-align: top;\n",
       "    }\n",
       "\n",
       "    .dataframe thead th {\n",
       "        text-align: right;\n",
       "    }\n",
       "</style>\n",
       "<table border=\"1\" class=\"dataframe\">\n",
       "  <thead>\n",
       "    <tr style=\"text-align: right;\">\n",
       "      <th></th>\n",
       "      <th>Movie</th>\n",
       "      <th>Rating</th>\n",
       "    </tr>\n",
       "  </thead>\n",
       "  <tbody>\n",
       "    <tr>\n",
       "      <th>0</th>\n",
       "      <td>Toy Story (1995)</td>\n",
       "      <td>-1</td>\n",
       "    </tr>\n",
       "    <tr>\n",
       "      <th>1</th>\n",
       "      <td>Jumanji (1995)</td>\n",
       "      <td>1</td>\n",
       "    </tr>\n",
       "    <tr>\n",
       "      <th>2</th>\n",
       "      <td>Waiting to Exhale (1995)</td>\n",
       "      <td>1</td>\n",
       "    </tr>\n",
       "    <tr>\n",
       "      <th>3</th>\n",
       "      <td>Dracula: Dead and Loving It (1995)</td>\n",
       "      <td>-1</td>\n",
       "    </tr>\n",
       "    <tr>\n",
       "      <th>4</th>\n",
       "      <td>Sense and Sensibility (1995)</td>\n",
       "      <td>1</td>\n",
       "    </tr>\n",
       "  </tbody>\n",
       "</table>\n",
       "</div>"
      ],
      "text/plain": [
       "                                Movie  Rating\n",
       "0                    Toy Story (1995)      -1\n",
       "1                      Jumanji (1995)       1\n",
       "2            Waiting to Exhale (1995)       1\n",
       "3  Dracula: Dead and Loving It (1995)      -1\n",
       "4        Sense and Sensibility (1995)       1"
      ]
     },
     "execution_count": 11,
     "metadata": {},
     "output_type": "execute_result"
    }
   ],
   "source": [
    "# Display movies with their ratings for Joan\n",
    "joan_rated_movies = pd.DataFrame({\n",
    "    'Movie': movies.iloc[list(joan_ratings.keys()), 0].values,\n",
    "    'Rating': list(joan_ratings.values())\n",
    "})\n",
    "print(\"Joan's rated movies:\")\n",
    "joan_rated_movies"
   ]
  },
  {
   "cell_type": "markdown",
   "id": "480cc86e",
   "metadata": {},
   "source": [
    "## 4. Building User Profiles"
   ]
  },
  {
   "cell_type": "code",
   "execution_count": 12,
   "id": "0b6aa9ea",
   "metadata": {},
   "outputs": [
    {
     "name": "stdout",
     "output_type": "stream",
     "text": [
      "John's unweighted profile:\n"
     ]
    },
    {
     "data": {
      "text/html": [
       "<div>\n",
       "<style scoped>\n",
       "    .dataframe tbody tr th:only-of-type {\n",
       "        vertical-align: middle;\n",
       "    }\n",
       "\n",
       "    .dataframe tbody tr th {\n",
       "        vertical-align: top;\n",
       "    }\n",
       "\n",
       "    .dataframe thead th {\n",
       "        text-align: right;\n",
       "    }\n",
       "</style>\n",
       "<table border=\"1\" class=\"dataframe\">\n",
       "  <thead>\n",
       "    <tr style=\"text-align: right;\">\n",
       "      <th></th>\n",
       "      <th>Adventure</th>\n",
       "      <th>Animation</th>\n",
       "      <th>Children</th>\n",
       "      <th>Comedy</th>\n",
       "      <th>Fantasy</th>\n",
       "      <th>Romance</th>\n",
       "      <th>Drama</th>\n",
       "      <th>Thriller</th>\n",
       "      <th>Action</th>\n",
       "      <th>Horror</th>\n",
       "    </tr>\n",
       "  </thead>\n",
       "  <tbody>\n",
       "    <tr>\n",
       "      <th>0</th>\n",
       "      <td>3.0</td>\n",
       "      <td>-2.0</td>\n",
       "      <td>-1.0</td>\n",
       "      <td>0.0</td>\n",
       "      <td>0.0</td>\n",
       "      <td>2.0</td>\n",
       "      <td>-1.0</td>\n",
       "      <td>-1.0</td>\n",
       "      <td>1.0</td>\n",
       "      <td>0.0</td>\n",
       "    </tr>\n",
       "  </tbody>\n",
       "</table>\n",
       "</div>"
      ],
      "text/plain": [
       "   Adventure  Animation  Children  Comedy  Fantasy  Romance  Drama  Thriller  \\\n",
       "0        3.0       -2.0      -1.0     0.0      0.0      2.0   -1.0      -1.0   \n",
       "\n",
       "   Action  Horror  \n",
       "0     1.0     0.0  "
      ]
     },
     "execution_count": 12,
     "metadata": {},
     "output_type": "execute_result"
    }
   ],
   "source": [
    "# Get John's unweighted profile\n",
    "john_unweighted_profile = recommender._build_user_profile('John', weighted=False)\n",
    "print(\"John's unweighted profile:\")\n",
    "pd.DataFrame(john_unweighted_profile.reshape(1, -1), columns=movies.columns[1:11])"
   ]
  },
  {
   "cell_type": "code",
   "execution_count": 13,
   "id": "5cb5ae8c",
   "metadata": {},
   "outputs": [
    {
     "name": "stdout",
     "output_type": "stream",
     "text": [
      "John's weighted profile:\n"
     ]
    },
    {
     "data": {
      "text/html": [
       "<div>\n",
       "<style scoped>\n",
       "    .dataframe tbody tr th:only-of-type {\n",
       "        vertical-align: middle;\n",
       "    }\n",
       "\n",
       "    .dataframe tbody tr th {\n",
       "        vertical-align: top;\n",
       "    }\n",
       "\n",
       "    .dataframe thead th {\n",
       "        text-align: right;\n",
       "    }\n",
       "</style>\n",
       "<table border=\"1\" class=\"dataframe\">\n",
       "  <thead>\n",
       "    <tr style=\"text-align: right;\">\n",
       "      <th></th>\n",
       "      <th>Adventure</th>\n",
       "      <th>Animation</th>\n",
       "      <th>Children</th>\n",
       "      <th>Comedy</th>\n",
       "      <th>Fantasy</th>\n",
       "      <th>Romance</th>\n",
       "      <th>Drama</th>\n",
       "      <th>Thriller</th>\n",
       "      <th>Action</th>\n",
       "      <th>Horror</th>\n",
       "    </tr>\n",
       "  </thead>\n",
       "  <tbody>\n",
       "    <tr>\n",
       "      <th>0</th>\n",
       "      <td>1.731671</td>\n",
       "      <td>-0.947214</td>\n",
       "      <td>-0.5</td>\n",
       "      <td>0.207107</td>\n",
       "      <td>0.0</td>\n",
       "      <td>1.024564</td>\n",
       "      <td>-0.447214</td>\n",
       "      <td>-0.5</td>\n",
       "      <td>0.57735</td>\n",
       "      <td>0.0</td>\n",
       "    </tr>\n",
       "  </tbody>\n",
       "</table>\n",
       "</div>"
      ],
      "text/plain": [
       "   Adventure  Animation  Children    Comedy  Fantasy   Romance     Drama  \\\n",
       "0   1.731671  -0.947214      -0.5  0.207107      0.0  1.024564 -0.447214   \n",
       "\n",
       "   Thriller   Action  Horror  \n",
       "0      -0.5  0.57735     0.0  "
      ]
     },
     "execution_count": 13,
     "metadata": {},
     "output_type": "execute_result"
    }
   ],
   "source": [
    "# Get John's weighted profile\n",
    "john_weighted_profile = recommender._build_user_profile('John', weighted=True)\n",
    "print(\"John's weighted profile:\")\n",
    "pd.DataFrame(john_weighted_profile.reshape(1, -1), columns=movies.columns[1:11])"
   ]
  },
  {
   "cell_type": "code",
   "execution_count": 14,
   "id": "67052ec4",
   "metadata": {},
   "outputs": [
    {
     "data": {
      "text/plain": [
       "<Figure size 1200x600 with 0 Axes>"
      ]
     },
     "metadata": {},
     "output_type": "display_data"
    }
   ],
   "source": [
    "# Compare John's weighted and unweighted profiles visually\n",
    "plt.figure(figsize=(12, 6))\n",
    "indices = np.arange(len(movies.columns[1:11]))\n",
    "width = 0.35"
   ]
  },
  {
   "cell_type": "code",
   "execution_count": 15,
   "id": "20166514",
   "metadata": {},
   "outputs": [
    {
     "data": {
      "text/plain": [
       "<BarContainer object of 10 artists>"
      ]
     },
     "execution_count": 15,
     "metadata": {},
     "output_type": "execute_result"
    },
    {
     "data": {
      "image/png": "[encoded data removed]",
      "text/plain": [
       "<Figure size 640x480 with 1 Axes>"
      ]
     },
     "metadata": {},
     "output_type": "display_data"
    }
   ],
   "source": [
    "plt.bar(indices - width/2, john_unweighted_profile, width, label='Unweighted')\n",
    "plt.bar(indices + width/2, john_weighted_profile, width, label='Weighted')"
   ]
  },
  {
   "cell_type": "code",
   "execution_count": 16,
   "id": "dfc2037a",
   "metadata": {},
   "outputs": [
    {
     "name": "stderr",
     "output_type": "stream",
     "text": [
      "/var/folders/7d/y3djdq_x1hj177smytvvxt2m0000gn/T/ipykernel_69309/187711764.py:5: UserWarning: No artists with labels found to put in legend.  Note that artists whose label start with an underscore are ignored when legend() is called with no argument.\n",
      "  plt.legend()\n"
     ]
    },
    {
     "data": {
      "image/png": "[encoded data removed]",
      "text/plain": [
       "<Figure size 640x480 with 1 Axes>"
      ]
     },
     "metadata": {},
     "output_type": "display_data"
    }
   ],
   "source": [
    "plt.xlabel('Genre')\n",
    "plt.ylabel('Preference Score')\n",
    "plt.title('John\\'s Profile: Weighted vs Unweighted')\n",
    "plt.xticks(indices, movies.columns[1:11], rotation=45)\n",
    "plt.legend()\n",
    "plt.tight_layout()\n",
    "plt.show()"
   ]
  },
  {
   "cell_type": "markdown",
   "id": "2f8d87a0",
   "metadata": {},
   "source": [
    "## 5. Generating Recommendations"
   ]
  },
  {
   "cell_type": "code",
   "execution_count": 17,
   "id": "4a5e5e19",
   "metadata": {},
   "outputs": [
    {
     "name": "stdout",
     "output_type": "stream",
     "text": [
      "John's unweighted predictions:\n"
     ]
    },
    {
     "data": {
      "text/html": [
       "<div>\n",
       "<style scoped>\n",
       "    .dataframe tbody tr th:only-of-type {\n",
       "        vertical-align: middle;\n",
       "    }\n",
       "\n",
       "    .dataframe tbody tr th {\n",
       "        vertical-align: top;\n",
       "    }\n",
       "\n",
       "    .dataframe thead th {\n",
       "        text-align: right;\n",
       "    }\n",
       "</style>\n",
       "<table border=\"1\" class=\"dataframe\">\n",
       "  <thead>\n",
       "    <tr style=\"text-align: right;\">\n",
       "      <th></th>\n",
       "      <th>item_index</th>\n",
       "      <th>item</th>\n",
       "      <th>rating</th>\n",
       "      <th>prediction</th>\n",
       "    </tr>\n",
       "  </thead>\n",
       "  <tbody>\n",
       "    <tr>\n",
       "      <th>15</th>\n",
       "      <td>15</td>\n",
       "      <td>Casino (1995)</td>\n",
       "      <td>1.0</td>\n",
       "      <td>6.0</td>\n",
       "    </tr>\n",
       "    <tr>\n",
       "      <th>0</th>\n",
       "      <td>0</td>\n",
       "      <td>Toy Story (1995)</td>\n",
       "      <td>1.0</td>\n",
       "      <td>4.0</td>\n",
       "    </tr>\n",
       "    <tr>\n",
       "      <th>11</th>\n",
       "      <td>11</td>\n",
       "      <td>Dracula: Dead and Loving It (1995)</td>\n",
       "      <td>0.0</td>\n",
       "      <td>4.0</td>\n",
       "    </tr>\n",
       "    <tr>\n",
       "      <th>8</th>\n",
       "      <td>8</td>\n",
       "      <td>Sudden Death (1995)</td>\n",
       "      <td>0.0</td>\n",
       "      <td>3.0</td>\n",
       "    </tr>\n",
       "    <tr>\n",
       "      <th>5</th>\n",
       "      <td>5</td>\n",
       "      <td>Heat (1995)</td>\n",
       "      <td>1.0</td>\n",
       "      <td>3.0</td>\n",
       "    </tr>\n",
       "    <tr>\n",
       "      <th>2</th>\n",
       "      <td>2</td>\n",
       "      <td>Grumpier Old Men (1995)</td>\n",
       "      <td>0.0</td>\n",
       "      <td>2.0</td>\n",
       "    </tr>\n",
       "    <tr>\n",
       "      <th>17</th>\n",
       "      <td>17</td>\n",
       "      <td>Four Rooms (1995)</td>\n",
       "      <td>0.0</td>\n",
       "      <td>1.0</td>\n",
       "    </tr>\n",
       "    <tr>\n",
       "      <th>14</th>\n",
       "      <td>14</td>\n",
       "      <td>Cutthroat Island (1995)</td>\n",
       "      <td>0.0</td>\n",
       "      <td>0.0</td>\n",
       "    </tr>\n",
       "    <tr>\n",
       "      <th>10</th>\n",
       "      <td>10</td>\n",
       "      <td>American President The (1995)</td>\n",
       "      <td>0.0</td>\n",
       "      <td>0.0</td>\n",
       "    </tr>\n",
       "    <tr>\n",
       "      <th>6</th>\n",
       "      <td>6</td>\n",
       "      <td>Sabrina (1995)</td>\n",
       "      <td>0.0</td>\n",
       "      <td>-1.0</td>\n",
       "    </tr>\n",
       "  </tbody>\n",
       "</table>\n",
       "</div>"
      ],
      "text/plain": [
       "    item_index                                item  rating  prediction\n",
       "15          15                       Casino (1995)     1.0         6.0\n",
       "0            0                    Toy Story (1995)     1.0         4.0\n",
       "11          11  Dracula: Dead and Loving It (1995)     0.0         4.0\n",
       "8            8                 Sudden Death (1995)     0.0         3.0\n",
       "5            5                         Heat (1995)     1.0         3.0\n",
       "2            2             Grumpier Old Men (1995)     0.0         2.0\n",
       "17          17                   Four Rooms (1995)     0.0         1.0\n",
       "14          14             Cutthroat Island (1995)     0.0         0.0\n",
       "10          10       American President The (1995)     0.0         0.0\n",
       "6            6                      Sabrina (1995)     0.0        -1.0"
      ]
     },
     "execution_count": 17,
     "metadata": {},
     "output_type": "execute_result"
    }
   ],
   "source": [
    "# Generate predictions for John (unweighted)\n",
    "john_preds_unweighted = recommender.generate_predictions('John', weighted=False)\n",
    "print(\"John's unweighted predictions:\")\n",
    "john_preds_unweighted.sort_values('prediction', ascending=False).head(10)"
   ]
  },
  {
   "cell_type": "code",
   "execution_count": 18,
   "id": "3c10de9b",
   "metadata": {},
   "outputs": [
    {
     "name": "stdout",
     "output_type": "stream",
     "text": [
      "John's weighted predictions:\n"
     ]
    },
    {
     "data": {
      "text/html": [
       "<div>\n",
       "<style scoped>\n",
       "    .dataframe tbody tr th:only-of-type {\n",
       "        vertical-align: middle;\n",
       "    }\n",
       "\n",
       "    .dataframe tbody tr th {\n",
       "        vertical-align: top;\n",
       "    }\n",
       "\n",
       "    .dataframe thead th {\n",
       "        text-align: right;\n",
       "    }\n",
       "</style>\n",
       "<table border=\"1\" class=\"dataframe\">\n",
       "  <thead>\n",
       "    <tr style=\"text-align: right;\">\n",
       "      <th></th>\n",
       "      <th>item_index</th>\n",
       "      <th>item</th>\n",
       "      <th>rating</th>\n",
       "      <th>prediction</th>\n",
       "    </tr>\n",
       "  </thead>\n",
       "  <tbody>\n",
       "    <tr>\n",
       "      <th>15</th>\n",
       "      <td>15</td>\n",
       "      <td>Casino (1995)</td>\n",
       "      <td>1.0</td>\n",
       "      <td>1.924646</td>\n",
       "    </tr>\n",
       "    <tr>\n",
       "      <th>5</th>\n",
       "      <td>5</td>\n",
       "      <td>Heat (1995)</td>\n",
       "      <td>1.0</td>\n",
       "      <td>1.370923</td>\n",
       "    </tr>\n",
       "    <tr>\n",
       "      <th>11</th>\n",
       "      <td>11</td>\n",
       "      <td>Dracula: Dead and Loving It (1995)</td>\n",
       "      <td>0.0</td>\n",
       "      <td>1.333114</td>\n",
       "    </tr>\n",
       "    <tr>\n",
       "      <th>8</th>\n",
       "      <td>8</td>\n",
       "      <td>Sudden Death (1995)</td>\n",
       "      <td>0.0</td>\n",
       "      <td>1.132724</td>\n",
       "    </tr>\n",
       "    <tr>\n",
       "      <th>0</th>\n",
       "      <td>0</td>\n",
       "      <td>Toy Story (1995)</td>\n",
       "      <td>1.0</td>\n",
       "      <td>1.009019</td>\n",
       "    </tr>\n",
       "    <tr>\n",
       "      <th>2</th>\n",
       "      <td>2</td>\n",
       "      <td>Grumpier Old Men (1995)</td>\n",
       "      <td>0.0</td>\n",
       "      <td>0.711105</td>\n",
       "    </tr>\n",
       "    <tr>\n",
       "      <th>17</th>\n",
       "      <td>17</td>\n",
       "      <td>Four Rooms (1995)</td>\n",
       "      <td>0.0</td>\n",
       "      <td>0.554695</td>\n",
       "    </tr>\n",
       "    <tr>\n",
       "      <th>14</th>\n",
       "      <td>14</td>\n",
       "      <td>Cutthroat Island (1995)</td>\n",
       "      <td>0.0</td>\n",
       "      <td>0.142229</td>\n",
       "    </tr>\n",
       "    <tr>\n",
       "      <th>10</th>\n",
       "      <td>10</td>\n",
       "      <td>American President The (1995)</td>\n",
       "      <td>0.0</td>\n",
       "      <td>0.044658</td>\n",
       "    </tr>\n",
       "    <tr>\n",
       "      <th>19</th>\n",
       "      <td>19</td>\n",
       "      <td>Money Train (1995)</td>\n",
       "      <td>0.0</td>\n",
       "      <td>-0.081378</td>\n",
       "    </tr>\n",
       "  </tbody>\n",
       "</table>\n",
       "</div>"
      ],
      "text/plain": [
       "    item_index                                item  rating  prediction\n",
       "15          15                       Casino (1995)     1.0    1.924646\n",
       "5            5                         Heat (1995)     1.0    1.370923\n",
       "11          11  Dracula: Dead and Loving It (1995)     0.0    1.333114\n",
       "8            8                 Sudden Death (1995)     0.0    1.132724\n",
       "0            0                    Toy Story (1995)     1.0    1.009019\n",
       "2            2             Grumpier Old Men (1995)     0.0    0.711105\n",
       "17          17                   Four Rooms (1995)     0.0    0.554695\n",
       "14          14             Cutthroat Island (1995)     0.0    0.142229\n",
       "10          10       American President The (1995)     0.0    0.044658\n",
       "19          19                  Money Train (1995)     0.0   -0.081378"
      ]
     },
     "execution_count": 18,
     "metadata": {},
     "output_type": "execute_result"
    }
   ],
   "source": [
    "# Generate predictions for John (weighted)\n",
    "john_preds_weighted = recommender.generate_predictions('John', weighted=True)\n",
    "print(\"John's weighted predictions:\")\n",
    "john_preds_weighted.sort_values('prediction', ascending=False).head(10)"
   ]
  },
  {
   "cell_type": "code",
   "execution_count": 19,
   "id": "ac700bc0",
   "metadata": {},
   "outputs": [
    {
     "name": "stdout",
     "output_type": "stream",
     "text": [
      "Top 5 unweighted recommendations for John:\n"
     ]
    },
    {
     "data": {
      "text/html": [
       "<div>\n",
       "<style scoped>\n",
       "    .dataframe tbody tr th:only-of-type {\n",
       "        vertical-align: middle;\n",
       "    }\n",
       "\n",
       "    .dataframe tbody tr th {\n",
       "        vertical-align: top;\n",
       "    }\n",
       "\n",
       "    .dataframe thead th {\n",
       "        text-align: right;\n",
       "    }\n",
       "</style>\n",
       "<table border=\"1\" class=\"dataframe\">\n",
       "  <thead>\n",
       "    <tr style=\"text-align: right;\">\n",
       "      <th></th>\n",
       "      <th>item</th>\n",
       "      <th>prediction</th>\n",
       "    </tr>\n",
       "  </thead>\n",
       "  <tbody>\n",
       "    <tr>\n",
       "      <th>11</th>\n",
       "      <td>Dracula: Dead and Loving It (1995)</td>\n",
       "      <td>4.0</td>\n",
       "    </tr>\n",
       "    <tr>\n",
       "      <th>8</th>\n",
       "      <td>Sudden Death (1995)</td>\n",
       "      <td>3.0</td>\n",
       "    </tr>\n",
       "    <tr>\n",
       "      <th>2</th>\n",
       "      <td>Grumpier Old Men (1995)</td>\n",
       "      <td>2.0</td>\n",
       "    </tr>\n",
       "    <tr>\n",
       "      <th>17</th>\n",
       "      <td>Four Rooms (1995)</td>\n",
       "      <td>1.0</td>\n",
       "    </tr>\n",
       "    <tr>\n",
       "      <th>10</th>\n",
       "      <td>American President The (1995)</td>\n",
       "      <td>0.0</td>\n",
       "    </tr>\n",
       "  </tbody>\n",
       "</table>\n",
       "</div>"
      ],
      "text/plain": [
       "                                  item  prediction\n",
       "11  Dracula: Dead and Loving It (1995)         4.0\n",
       "8                  Sudden Death (1995)         3.0\n",
       "2              Grumpier Old Men (1995)         2.0\n",
       "17                   Four Rooms (1995)         1.0\n",
       "10       American President The (1995)         0.0"
      ]
     },
     "execution_count": 19,
     "metadata": {},
     "output_type": "execute_result"
    }
   ],
   "source": [
    "# Get top 5 recommendations for John (unweighted)\n",
    "john_recs_unweighted = recommender.get_recommendations('John', top_n=5, weighted=False)\n",
    "print(\"Top 5 unweighted recommendations for John:\")\n",
    "john_recs_unweighted[['item', 'prediction']]"
   ]
  },
  {
   "cell_type": "code",
   "execution_count": 20,
   "id": "b9f7ea59",
   "metadata": {},
   "outputs": [
    {
     "name": "stdout",
     "output_type": "stream",
     "text": [
      "Top 5 weighted recommendations for John:\n"
     ]
    },
    {
     "data": {
      "text/html": [
       "<div>\n",
       "<style scoped>\n",
       "    .dataframe tbody tr th:only-of-type {\n",
       "        vertical-align: middle;\n",
       "    }\n",
       "\n",
       "    .dataframe tbody tr th {\n",
       "        vertical-align: top;\n",
       "    }\n",
       "\n",
       "    .dataframe thead th {\n",
       "        text-align: right;\n",
       "    }\n",
       "</style>\n",
       "<table border=\"1\" class=\"dataframe\">\n",
       "  <thead>\n",
       "    <tr style=\"text-align: right;\">\n",
       "      <th></th>\n",
       "      <th>item</th>\n",
       "      <th>prediction</th>\n",
       "    </tr>\n",
       "  </thead>\n",
       "  <tbody>\n",
       "    <tr>\n",
       "      <th>11</th>\n",
       "      <td>Dracula: Dead and Loving It (1995)</td>\n",
       "      <td>1.333114</td>\n",
       "    </tr>\n",
       "    <tr>\n",
       "      <th>8</th>\n",
       "      <td>Sudden Death (1995)</td>\n",
       "      <td>1.132724</td>\n",
       "    </tr>\n",
       "    <tr>\n",
       "      <th>2</th>\n",
       "      <td>Grumpier Old Men (1995)</td>\n",
       "      <td>0.711105</td>\n",
       "    </tr>\n",
       "    <tr>\n",
       "      <th>17</th>\n",
       "      <td>Four Rooms (1995)</td>\n",
       "      <td>0.554695</td>\n",
       "    </tr>\n",
       "    <tr>\n",
       "      <th>14</th>\n",
       "      <td>Cutthroat Island (1995)</td>\n",
       "      <td>0.142229</td>\n",
       "    </tr>\n",
       "  </tbody>\n",
       "</table>\n",
       "</div>"
      ],
      "text/plain": [
       "                                  item  prediction\n",
       "11  Dracula: Dead and Loving It (1995)    1.333114\n",
       "8                  Sudden Death (1995)    1.132724\n",
       "2              Grumpier Old Men (1995)    0.711105\n",
       "17                   Four Rooms (1995)    0.554695\n",
       "14             Cutthroat Island (1995)    0.142229"
      ]
     },
     "execution_count": 20,
     "metadata": {},
     "output_type": "execute_result"
    }
   ],
   "source": [
    "# Get top 5 recommendations for John (weighted)\n",
    "john_recs_weighted = recommender.get_recommendations('John', top_n=5, weighted=True)\n",
    "print(\"Top 5 weighted recommendations for John:\")\n",
    "john_recs_weighted[['item', 'prediction']]"
   ]
  },
  {
   "cell_type": "code",
   "execution_count": 21,
   "id": "f50fcbaf",
   "metadata": {},
   "outputs": [
    {
     "name": "stdout",
     "output_type": "stream",
     "text": [
      "Joan's unweighted predictions:\n"
     ]
    },
    {
     "data": {
      "text/html": [
       "<div>\n",
       "<style scoped>\n",
       "    .dataframe tbody tr th:only-of-type {\n",
       "        vertical-align: middle;\n",
       "    }\n",
       "\n",
       "    .dataframe tbody tr th {\n",
       "        vertical-align: top;\n",
       "    }\n",
       "\n",
       "    .dataframe thead th {\n",
       "        text-align: right;\n",
       "    }\n",
       "</style>\n",
       "<table border=\"1\" class=\"dataframe\">\n",
       "  <thead>\n",
       "    <tr style=\"text-align: right;\">\n",
       "      <th></th>\n",
       "      <th>item_index</th>\n",
       "      <th>item</th>\n",
       "      <th>rating</th>\n",
       "      <th>prediction</th>\n",
       "    </tr>\n",
       "  </thead>\n",
       "  <tbody>\n",
       "    <tr>\n",
       "      <th>16</th>\n",
       "      <td>16</td>\n",
       "      <td>Sense and Sensibility (1995)</td>\n",
       "      <td>1.0</td>\n",
       "      <td>10.0</td>\n",
       "    </tr>\n",
       "    <tr>\n",
       "      <th>1</th>\n",
       "      <td>1</td>\n",
       "      <td>Jumanji (1995)</td>\n",
       "      <td>1.0</td>\n",
       "      <td>10.0</td>\n",
       "    </tr>\n",
       "    <tr>\n",
       "      <th>3</th>\n",
       "      <td>3</td>\n",
       "      <td>Waiting to Exhale (1995)</td>\n",
       "      <td>1.0</td>\n",
       "      <td>8.0</td>\n",
       "    </tr>\n",
       "    <tr>\n",
       "      <th>12</th>\n",
       "      <td>12</td>\n",
       "      <td>Balto (1995)</td>\n",
       "      <td>0.0</td>\n",
       "      <td>7.0</td>\n",
       "    </tr>\n",
       "    <tr>\n",
       "      <th>13</th>\n",
       "      <td>13</td>\n",
       "      <td>Nixon (1995)</td>\n",
       "      <td>0.0</td>\n",
       "      <td>7.0</td>\n",
       "    </tr>\n",
       "    <tr>\n",
       "      <th>19</th>\n",
       "      <td>19</td>\n",
       "      <td>Money Train (1995)</td>\n",
       "      <td>0.0</td>\n",
       "      <td>5.0</td>\n",
       "    </tr>\n",
       "    <tr>\n",
       "      <th>7</th>\n",
       "      <td>7</td>\n",
       "      <td>Tom and Huck (1995)</td>\n",
       "      <td>0.0</td>\n",
       "      <td>4.0</td>\n",
       "    </tr>\n",
       "    <tr>\n",
       "      <th>14</th>\n",
       "      <td>14</td>\n",
       "      <td>Cutthroat Island (1995)</td>\n",
       "      <td>0.0</td>\n",
       "      <td>4.0</td>\n",
       "    </tr>\n",
       "    <tr>\n",
       "      <th>17</th>\n",
       "      <td>17</td>\n",
       "      <td>Four Rooms (1995)</td>\n",
       "      <td>0.0</td>\n",
       "      <td>3.0</td>\n",
       "    </tr>\n",
       "    <tr>\n",
       "      <th>18</th>\n",
       "      <td>18</td>\n",
       "      <td>Ace Ventura: When Nature Calls (1995)</td>\n",
       "      <td>0.0</td>\n",
       "      <td>2.0</td>\n",
       "    </tr>\n",
       "  </tbody>\n",
       "</table>\n",
       "</div>"
      ],
      "text/plain": [
       "    item_index                                   item  rating  prediction\n",
       "16          16           Sense and Sensibility (1995)     1.0        10.0\n",
       "1            1                         Jumanji (1995)     1.0        10.0\n",
       "3            3               Waiting to Exhale (1995)     1.0         8.0\n",
       "12          12                           Balto (1995)     0.0         7.0\n",
       "13          13                           Nixon (1995)     0.0         7.0\n",
       "19          19                     Money Train (1995)     0.0         5.0\n",
       "7            7                    Tom and Huck (1995)     0.0         4.0\n",
       "14          14                Cutthroat Island (1995)     0.0         4.0\n",
       "17          17                      Four Rooms (1995)     0.0         3.0\n",
       "18          18  Ace Ventura: When Nature Calls (1995)     0.0         2.0"
      ]
     },
     "execution_count": 21,
     "metadata": {},
     "output_type": "execute_result"
    }
   ],
   "source": [
    "# Generate predictions for Joan (unweighted)\n",
    "joan_preds_unweighted = recommender.generate_predictions('Joan', weighted=False)\n",
    "print(\"Joan's unweighted predictions:\")\n",
    "joan_preds_unweighted.sort_values('prediction', ascending=False).head(10)"
   ]
  },
  {
   "cell_type": "code",
   "execution_count": 22,
   "id": "e858046e",
   "metadata": {},
   "outputs": [
    {
     "name": "stdout",
     "output_type": "stream",
     "text": [
      "Joan's weighted predictions:\n"
     ]
    },
    {
     "data": {
      "text/html": [
       "<div>\n",
       "<style scoped>\n",
       "    .dataframe tbody tr th:only-of-type {\n",
       "        vertical-align: middle;\n",
       "    }\n",
       "\n",
       "    .dataframe tbody tr th {\n",
       "        vertical-align: top;\n",
       "    }\n",
       "\n",
       "    .dataframe thead th {\n",
       "        text-align: right;\n",
       "    }\n",
       "</style>\n",
       "<table border=\"1\" class=\"dataframe\">\n",
       "  <thead>\n",
       "    <tr style=\"text-align: right;\">\n",
       "      <th></th>\n",
       "      <th>item_index</th>\n",
       "      <th>item</th>\n",
       "      <th>rating</th>\n",
       "      <th>prediction</th>\n",
       "    </tr>\n",
       "  </thead>\n",
       "  <tbody>\n",
       "    <tr>\n",
       "      <th>16</th>\n",
       "      <td>16</td>\n",
       "      <td>Sense and Sensibility (1995)</td>\n",
       "      <td>1.0</td>\n",
       "      <td>2.526393</td>\n",
       "    </tr>\n",
       "    <tr>\n",
       "      <th>1</th>\n",
       "      <td>1</td>\n",
       "      <td>Jumanji (1995)</td>\n",
       "      <td>1.0</td>\n",
       "      <td>2.526393</td>\n",
       "    </tr>\n",
       "    <tr>\n",
       "      <th>3</th>\n",
       "      <td>3</td>\n",
       "      <td>Waiting to Exhale (1995)</td>\n",
       "      <td>1.0</td>\n",
       "      <td>1.987718</td>\n",
       "    </tr>\n",
       "    <tr>\n",
       "      <th>12</th>\n",
       "      <td>12</td>\n",
       "      <td>Balto (1995)</td>\n",
       "      <td>0.0</td>\n",
       "      <td>1.802786</td>\n",
       "    </tr>\n",
       "    <tr>\n",
       "      <th>13</th>\n",
       "      <td>13</td>\n",
       "      <td>Nixon (1995)</td>\n",
       "      <td>0.0</td>\n",
       "      <td>1.776393</td>\n",
       "    </tr>\n",
       "    <tr>\n",
       "      <th>19</th>\n",
       "      <td>19</td>\n",
       "      <td>Money Train (1995)</td>\n",
       "      <td>0.0</td>\n",
       "      <td>1.237718</td>\n",
       "    </tr>\n",
       "    <tr>\n",
       "      <th>17</th>\n",
       "      <td>17</td>\n",
       "      <td>Four Rooms (1995)</td>\n",
       "      <td>0.0</td>\n",
       "      <td>1.060660</td>\n",
       "    </tr>\n",
       "    <tr>\n",
       "      <th>7</th>\n",
       "      <td>7</td>\n",
       "      <td>Tom and Huck (1995)</td>\n",
       "      <td>0.0</td>\n",
       "      <td>1.014111</td>\n",
       "    </tr>\n",
       "    <tr>\n",
       "      <th>14</th>\n",
       "      <td>14</td>\n",
       "      <td>Cutthroat Island (1995)</td>\n",
       "      <td>0.0</td>\n",
       "      <td>0.949043</td>\n",
       "    </tr>\n",
       "    <tr>\n",
       "      <th>6</th>\n",
       "      <td>6</td>\n",
       "      <td>Sabrina (1995)</td>\n",
       "      <td>0.0</td>\n",
       "      <td>0.744432</td>\n",
       "    </tr>\n",
       "  </tbody>\n",
       "</table>\n",
       "</div>"
      ],
      "text/plain": [
       "    item_index                          item  rating  prediction\n",
       "16          16  Sense and Sensibility (1995)     1.0    2.526393\n",
       "1            1                Jumanji (1995)     1.0    2.526393\n",
       "3            3      Waiting to Exhale (1995)     1.0    1.987718\n",
       "12          12                  Balto (1995)     0.0    1.802786\n",
       "13          13                  Nixon (1995)     0.0    1.776393\n",
       "19          19            Money Train (1995)     0.0    1.237718\n",
       "17          17             Four Rooms (1995)     0.0    1.060660\n",
       "7            7           Tom and Huck (1995)     0.0    1.014111\n",
       "14          14       Cutthroat Island (1995)     0.0    0.949043\n",
       "6            6                Sabrina (1995)     0.0    0.744432"
      ]
     },
     "execution_count": 22,
     "metadata": {},
     "output_type": "execute_result"
    }
   ],
   "source": [
    "# Generate predictions for Joan (weighted)\n",
    "joan_preds_weighted = recommender.generate_predictions('Joan', weighted=True)\n",
    "print(\"Joan's weighted predictions:\")\n",
    "joan_preds_weighted.sort_values('prediction', ascending=False).head(10)"
   ]
  },
  {
   "cell_type": "markdown",
   "id": "59949b34",
   "metadata": {},
   "source": [
    "## 6. Comparing Weighted and Unweighted Approaches"
   ]
  },
  {
   "cell_type": "code",
   "execution_count": 23,
   "id": "cc0008ea",
   "metadata": {},
   "outputs": [
    {
     "name": "stdout",
     "output_type": "stream",
     "text": [
      "Comparison of approaches for John:\n"
     ]
    },
    {
     "data": {
      "text/html": [
       "<div>\n",
       "<style scoped>\n",
       "    .dataframe tbody tr th:only-of-type {\n",
       "        vertical-align: middle;\n",
       "    }\n",
       "\n",
       "    .dataframe tbody tr th {\n",
       "        vertical-align: top;\n",
       "    }\n",
       "\n",
       "    .dataframe thead th {\n",
       "        text-align: right;\n",
       "    }\n",
       "</style>\n",
       "<table border=\"1\" class=\"dataframe\">\n",
       "  <thead>\n",
       "    <tr style=\"text-align: right;\">\n",
       "      <th></th>\n",
       "      <th>Approach</th>\n",
       "      <th>Best Unrated Item</th>\n",
       "      <th>Best Item Score</th>\n",
       "      <th>Disliked Items Count</th>\n",
       "    </tr>\n",
       "  </thead>\n",
       "  <tbody>\n",
       "    <tr>\n",
       "      <th>0</th>\n",
       "      <td>Unweighted</td>\n",
       "      <td>Dracula: Dead and Loving It (1995)</td>\n",
       "      <td>4.000000</td>\n",
       "      <td>11</td>\n",
       "    </tr>\n",
       "    <tr>\n",
       "      <th>1</th>\n",
       "      <td>Weighted</td>\n",
       "      <td>Dracula: Dead and Loving It (1995)</td>\n",
       "      <td>1.333114</td>\n",
       "      <td>11</td>\n",
       "    </tr>\n",
       "  </tbody>\n",
       "</table>\n",
       "</div>"
      ],
      "text/plain": [
       "     Approach                   Best Unrated Item  Best Item Score  \\\n",
       "0  Unweighted  Dracula: Dead and Loving It (1995)         4.000000   \n",
       "1    Weighted  Dracula: Dead and Loving It (1995)         1.333114   \n",
       "\n",
       "   Disliked Items Count  \n",
       "0                    11  \n",
       "1                    11  "
      ]
     },
     "execution_count": 23,
     "metadata": {},
     "output_type": "execute_result"
    }
   ],
   "source": [
    "# Compare approaches for John\n",
    "john_comparison = recommender.compare_approaches('John')\n",
    "print(\"Comparison of approaches for John:\")\n",
    "john_comparison"
   ]
  },
  {
   "cell_type": "code",
   "execution_count": 24,
   "id": "78a1a8fc",
   "metadata": {},
   "outputs": [
    {
     "name": "stdout",
     "output_type": "stream",
     "text": [
      "Comparison of approaches for Joan:\n"
     ]
    },
    {
     "data": {
      "text/html": [
       "<div>\n",
       "<style scoped>\n",
       "    .dataframe tbody tr th:only-of-type {\n",
       "        vertical-align: middle;\n",
       "    }\n",
       "\n",
       "    .dataframe tbody tr th {\n",
       "        vertical-align: top;\n",
       "    }\n",
       "\n",
       "    .dataframe thead th {\n",
       "        text-align: right;\n",
       "    }\n",
       "</style>\n",
       "<table border=\"1\" class=\"dataframe\">\n",
       "  <thead>\n",
       "    <tr style=\"text-align: right;\">\n",
       "      <th></th>\n",
       "      <th>Approach</th>\n",
       "      <th>Best Unrated Item</th>\n",
       "      <th>Best Item Score</th>\n",
       "      <th>Disliked Items Count</th>\n",
       "    </tr>\n",
       "  </thead>\n",
       "  <tbody>\n",
       "    <tr>\n",
       "      <th>0</th>\n",
       "      <td>Unweighted</td>\n",
       "      <td>Balto (1995)</td>\n",
       "      <td>7.000000</td>\n",
       "      <td>4</td>\n",
       "    </tr>\n",
       "    <tr>\n",
       "      <th>1</th>\n",
       "      <td>Weighted</td>\n",
       "      <td>Balto (1995)</td>\n",
       "      <td>1.802786</td>\n",
       "      <td>4</td>\n",
       "    </tr>\n",
       "  </tbody>\n",
       "</table>\n",
       "</div>"
      ],
      "text/plain": [
       "     Approach Best Unrated Item  Best Item Score  Disliked Items Count\n",
       "0  Unweighted      Balto (1995)         7.000000                     4\n",
       "1    Weighted      Balto (1995)         1.802786                     4"
      ]
     },
     "execution_count": 24,
     "metadata": {},
     "output_type": "execute_result"
    }
   ],
   "source": [
    "# Compare approaches for Joan\n",
    "joan_comparison = recommender.compare_approaches('Joan')\n",
    "print(\"Comparison of approaches for Joan:\")\n",
    "joan_comparison"
   ]
  },
  {
   "cell_type": "code",
   "execution_count": 25,
   "id": "9b4884c1",
   "metadata": {},
   "outputs": [
    {
     "data": {
      "text/plain": [
       "<Figure size 1200x800 with 0 Axes>"
      ]
     },
     "metadata": {},
     "output_type": "display_data"
    }
   ],
   "source": [
    "# Visualize prediction differences between weighted and unweighted approaches\n",
    "plt.figure(figsize=(12, 8))\n",
    "movie_indices = john_preds_unweighted['item_index'].values[:10]\n",
    "movie_names = john_preds_unweighted['item'].values[:10]"
   ]
  },
  {
   "cell_type": "code",
   "execution_count": 26,
   "id": "fc875a07",
   "metadata": {},
   "outputs": [],
   "source": [
    "x = np.arange(len(movie_indices))\n",
    "width = 0.35"
   ]
  },
  {
   "cell_type": "code",
   "execution_count": 27,
   "id": "ec468b93",
   "metadata": {},
   "outputs": [],
   "source": [
    "unweighted_scores = john_preds_unweighted.sort_values('prediction', ascending=False)['prediction'].values[:10]\n",
    "weighted_scores = john_preds_weighted.loc[john_preds_unweighted.sort_values('prediction', ascending=False).index[:10], 'prediction'].values"
   ]
  },
  {
   "cell_type": "code",
   "execution_count": 28,
   "id": "8c455d42",
   "metadata": {},
   "outputs": [
    {
     "data": {
      "text/plain": [
       "<BarContainer object of 10 artists>"
      ]
     },
     "execution_count": 28,
     "metadata": {},
     "output_type": "execute_result"
    },
    {
     "data": {
      "image/png": "[encoded data removed]",
      "text/plain": [
       "<Figure size 640x480 with 1 Axes>"
      ]
     },
     "metadata": {},
     "output_type": "display_data"
    }
   ],
   "source": [
    "plt.bar(x - width/2, unweighted_scores, width, label='Unweighted')\n",
    "plt.bar(x + width/2, weighted_scores, width, label='Weighted')"
   ]
  },
  {
   "cell_type": "code",
   "execution_count": 29,
   "id": "923a8cc5",
   "metadata": {},
   "outputs": [
    {
     "name": "stderr",
     "output_type": "stream",
     "text": [
      "/var/folders/7d/y3djdq_x1hj177smytvvxt2m0000gn/T/ipykernel_69309/420091277.py:5: UserWarning: No artists with labels found to put in legend.  Note that artists whose label start with an underscore are ignored when legend() is called with no argument.\n",
      "  plt.legend()\n"
     ]
    },
    {
     "data": {
      "image/png": "[encoded data removed]",
      "text/plain": [
       "<Figure size 640x480 with 1 Axes>"
      ]
     },
     "metadata": {},
     "output_type": "display_data"
    }
   ],
   "source": [
    "plt.xlabel('Movie')\n",
    "plt.ylabel('Prediction Score')\n",
    "plt.title('Prediction Scores: Weighted vs Unweighted (John)')\n",
    "plt.xticks(x, movie_names, rotation=90)\n",
    "plt.legend()\n",
    "plt.tight_layout()\n",
    "plt.show()"
   ]
  },
  {
   "cell_type": "markdown",
   "id": "5edafc59",
   "metadata": {},
   "source": [
    "## 7. Discussion and Insights"
   ]
  },
  {
   "cell_type": "code",
   "execution_count": 30,
   "id": "1dd266f9",
   "metadata": {},
   "outputs": [
    {
     "data": {
      "text/plain": [
       "'\\nKey Insights:\\n\\n1. Unweighted vs Weighted Profiles:\\n   - Unweighted profiles can be dominated by movies with many genres\\n   - Weighted profiles normalize the influence of each movie based on its attribute density\\n\\n2. Recommendation Changes:\\n   - For John, the top recommendation stays the same in both approaches, suggesting a strong preference\\n   - For Joan, the weighted approach changes the ranking of recommendations slightly\\n\\n3. When to Use Each Approach:\\n   - Unweighted: When all items have similar numbers of attributes or when absolute attribute matching is important\\n   - Weighted: When items have varying numbers of attributes and you want fair comparison\\n\\n4. Real-world Applications:\\n   - Content-based recommenders work well for domains with rich item metadata\\n   - They can address the \"cold start\" problem for new users or items better than collaborative filtering\\n\\n5. Limitations:\\n   - Content-based systems only recommend items similar to what users have already liked\\n   - They lack serendipity - the chance discovery of new, unexpected items\\n   - They require good quality metadata for items\\n'"
      ]
     },
     "execution_count": 30,
     "metadata": {},
     "output_type": "execute_result"
    }
   ],
   "source": [
    "# What we've learned:\n",
    "\n",
    "\"\"\"\n",
    "Key Insights:\n",
    "\n",
    "1. Unweighted vs Weighted Profiles:\n",
    "   - Unweighted profiles can be dominated by movies with many genres\n",
    "   - Weighted profiles normalize the influence of each movie based on its attribute density\n",
    "\n",
    "2. Recommendation Changes:\n",
    "   - For John, the top recommendation stays the same in both approaches, suggesting a strong preference\n",
    "   - For Joan, the weighted approach changes the ranking of recommendations slightly\n",
    "\n",
    "3. When to Use Each Approach:\n",
    "   - Unweighted: When all items have similar numbers of attributes or when absolute attribute matching is important\n",
    "   - Weighted: When items have varying numbers of attributes and you want fair comparison\n",
    "\n",
    "4. Real-world Applications:\n",
    "   - Content-based recommenders work well for domains with rich item metadata\n",
    "   - They can address the \"cold start\" problem for new users or items better than collaborative filtering\n",
    "\n",
    "5. Limitations:\n",
    "   - Content-based systems only recommend items similar to what users have already liked\n",
    "   - They lack serendipity - the chance discovery of new, unexpected items\n",
    "   - They require good quality metadata for items\n",
    "\"\"\""
   ]
  },
  {
   "cell_type": "markdown",
   "id": "aa1bb4df",
   "metadata": {},
   "source": [
    "## 8. Next Steps"
   ]
  },
  {
   "cell_type": "code",
   "execution_count": 31,
   "id": "0974c480",
   "metadata": {},
   "outputs": [
    {
     "data": {
      "text/plain": [
       "'\\nFuture Improvements:\\n\\n1. Feature Engineering:\\n   - Incorporate more sophisticated attribute weighting (TF-IDF)\\n   - Add text-based features through NLP techniques\\n\\n2. Evaluation:\\n   - Implement offline evaluation metrics (precision, recall, NDCG)\\n   - Design A/B tests for online evaluation\\n\\n3. Hybrid Approaches:\\n   - Combine content-based with collaborative filtering\\n   - Use content-based as a fallback for cold-start scenarios\\n\\n4. Scalability:\\n   - Optimize for larger datasets\\n   - Implement feature reduction techniques\\n'"
      ]
     },
     "execution_count": 31,
     "metadata": {},
     "output_type": "execute_result"
    }
   ],
   "source": [
    "\"\"\"\n",
    "Future Improvements:\n",
    "\n",
    "1. Feature Engineering:\n",
    "   - Incorporate more sophisticated attribute weighting (TF-IDF)\n",
    "   - Add text-based features through NLP techniques\n",
    "\n",
    "2. Evaluation:\n",
    "   - Implement offline evaluation metrics (precision, recall, NDCG)\n",
    "   - Design A/B tests for online evaluation\n",
    "\n",
    "3. Hybrid Approaches:\n",
    "   - Combine content-based with collaborative filtering\n",
    "   - Use content-based as a fallback for cold-start scenarios\n",
    "\n",
    "4. Scalability:\n",
    "   - Optimize for larger datasets\n",
    "   - Implement feature reduction techniques\n",
    "\"\"\""
   ]
  }
 ],
 "metadata": {
  "jupytext": {
   "formats": "ipynb,py:light"
  },
  "kernelspec": {
   "display_name": "Python 3 (ipykernel)",
   "language": "python",
   "name": "python3"
  },
  "language_info": {
   "codemirror_mode": {
    "name": "ipython",
    "version": 3
   },
   "file_extension": ".py",
   "mimetype": "text/x-python",
   "name": "python",
   "nbconvert_exporter": "python",
   "pygments_lexer": "ipython3",
   "version": "3.13.1"
  }
 },
 "nbformat": 4,
 "nbformat_minor": 5
}
